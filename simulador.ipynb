{
 "cells": [
  {
   "cell_type": "markdown",
   "id": "e5e29e69",
   "metadata": {},
   "source": [
    "## 1º Definir função para simular o circuito e retornar os dados da corrente elétrica"
   ]
  },
  {
   "cell_type": "code",
   "execution_count": null,
   "id": "c64e3357",
   "metadata": {},
   "outputs": [],
   "source": [
    "# -*- coding: utf-8 -*-\n",
    "\"\"\"\n",
    "Created on Tue Feb  4 21:21:44 2020\n",
    "\n",
    "@author: Edson Porto da Silva\n",
    "\"\"\"\n",
    "import random\n",
    "import numpy as np\n",
    "import matplotlib.pyplot as plt\n",
    "from scipy import integrate\n",
    "from scipy import signal\n",
    "\n",
    "def simulador(R,L,C,a):\n",
    "    \n",
    "    # Resolução numérica de um circuito RLC série alimentado por uma onda quadrada\n",
    "    # de tensão.\n",
    "\n",
    "\n",
    "    # parâmetros do circuito:\n",
    "    V0 = 0                # tensão inicial no capacitor [volts]\n",
    "    I0 = 0                # corrente inicial no indutor [ampères]\n",
    "    fq = 2               # frequência da onda quadrada [hertz]\n",
    "    Vq = 15              # amplitude da onda quadrada [volts]\n",
    "    w0 = 1/np.sqrt(L*C)   # frequência angular de ressonância [rad/segundo]\n",
    "\n",
    "    t = np.arange(0,5,0.001)*(2/10)   # discretização do intervalo de tempo [segundos]\n",
    "    Vs = Vq*signal.square(2*np.pi*fq*t) # onda quadrada na entrada do circuito\n",
    "\n",
    "    vC    = np.zeros(len(t))\n",
    "    x     = np.zeros(len(t))\n",
    "\n",
    "    # EDO da tensão sobre o capacitor: vc''(t)+(R/L)vc'(t)+vc(t)/LC = vs/LC\n",
    "\n",
    "    # Solução numérica:\n",
    "    vC[0] = V0       # condição incial de vc\n",
    "    x[0]  = I0/C     # condição inicial da derivada vc'(t)\n",
    "    #\n",
    "    # Integração numérica via método de Euler:\n",
    "    deltaT    = t[1]-t[0] # passo de integração\n",
    "    numPoints = len(t)-1\n",
    "\n",
    "    for kk in range(0, numPoints):\n",
    "        vC[kk+1] = vC[kk]+x[kk]*deltaT                                # calcula vc(t+deltaT)\n",
    "        x[kk+1]  = x[kk]+(-R/L*x[kk]-1/(L*C)*(vC[kk]-Vs[kk]))*deltaT  # calcula vc'(t+deltaT)\n",
    "\n",
    "    # cálculo das tensões e da corrente partir de vc(t):\n",
    "    i  = np.append(I0, C*np.diff(vC)/deltaT)    # corrente no circuito\n",
    "    \n",
    "    vR = R*i                                    # tensão no resistor\n",
    "    vL = Vs-vR-vC                               # tensão no indutor(LKT)\n",
    "    if a ==1:\n",
    "        \n",
    "        plt.figure(1, figsize=(12, 9), dpi=80, facecolor='w', edgecolor='k')\n",
    "        plt.plot(t, i)\n",
    "        plt.legend(['corrente i(t)']);\n",
    "        plt.grid(color='k', linestyle='--', linewidth=0.1)\n",
    "        plt.ylabel('ampères (A)', fontsize = 14)\n",
    "        plt.xlabel('tempo (s)', fontsize = 14)\n",
    "        plt.title('Corrente no circuito RLC série', fontsize = 14)\n",
    "        plt.show(block=False)\n",
    "    return(i)"
   ]
  },
  {
   "cell_type": "markdown",
   "id": "a787f137",
   "metadata": {},
   "source": [
    "## 2º Gerar os valores de R,L e C"
   ]
  },
  {
   "cell_type": "code",
   "execution_count": null,
   "id": "10dc8c80",
   "metadata": {
    "scrolled": false
   },
   "outputs": [],
   "source": [
    "\n",
    "conjunto = np.empty((0,3)) #Matriz que armazena os valores de R,L e C\n",
    "tam = 0 #Quantidade de valores armazenados (linhas da matriz)\n",
    "w_arm = np.empty(())\n",
    "wd_arm = np.empty(())\n",
    "while tam < 100:    #Superamortecido\n",
    "\n",
    "    l = random.uniform(0.01, 100)\n",
    "    c = random.uniform(1e-8, 1e-4)\n",
    "    r = random.uniform(1, 1e4)\n",
    "    w = 1/(l*c)**(1/2)\n",
    "    alpha = r/(2*l)\n",
    "    param= abs(w-alpha)\n",
    "    if alpha>w and w>10 and w<200 : \n",
    "        w_arm = np.hstack((w_arm,w))\n",
    "        conj =r,l,c\n",
    "        conjunto =np.vstack((conjunto,conj))\n",
    "        tam+=1\n",
    "      \n",
    "while tam < 200:     #Subamortecido\n",
    "\n",
    "    l = random.uniform(0.01, 100)\n",
    "    c = random.uniform(1e-8, 1e-4)\n",
    "    r = random.uniform(1, 1e4)\n",
    "    w = 1/(l*c)**(1/2)\n",
    "    alpha = r/(2*l)\n",
    "    if alpha<w and w>10 and w<200  :\n",
    "        wd = ((w**2) - (alpha**2))**(1/2)\n",
    "        if  wd<3140:\n",
    "            w_arm = np.hstack((w_arm,w))\n",
    "            wd_arm = np.hstack((wd_arm,wd))\n",
    "            conj =r,l,c\n",
    "            conjunto =np.vstack((conjunto,conj))\n",
    "            tam+=1\n",
    "while tam < 300:     #Criticamente amortecido\n",
    "    \n",
    "    l = random.uniform(0.01, 100)\n",
    "    c = random.uniform(1e-8, 1e-4)\n",
    "    r = random.uniform(1, 1e4)\n",
    "    w = 1/(l*c)**(1/2)\n",
    "    alpha = r/(2*l)\n",
    "    param= abs(w-alpha)\n",
    "    if param<0.001 and w>10 and w<200 :\n",
    "        w_arm = np.hstack((w_arm,w))\n",
    "        conj =r,l,c\n",
    "        conjunto =np.vstack((conjunto,conj))\n",
    "        tam+=1\n",
    "\n"
   ]
  },
  {
   "cell_type": "markdown",
   "id": "8507998d",
   "metadata": {},
   "source": [
    "### 3º Avaliar os dados "
   ]
  },
  {
   "cell_type": "code",
   "execution_count": null,
   "id": "75908c4f",
   "metadata": {
    "scrolled": false
   },
   "outputs": [],
   "source": [
    "print(\"Valor máximo de w: \",np.max(w_arm))\n",
    "print(\"Valor mínimo de w: \",np.min(w_arm))\n",
    "print(\"Valor médio de w: \",np.mean(w_arm))\n",
    "\n",
    "print(\"\")\n",
    "print(\"Valor máximo de wd: \",np.max(wd_arm))\n",
    "print(\"Valor mínimo de wd: \",np.min(wd_arm))\n",
    "print(\"Valor médio de wd: \",np.mean(wd_arm))\n",
    "\n",
    "print(\"\")\n",
    "print(\"Valor máximo de resistor: \",np.max(conjunto[:,0]))\n",
    "print(\"Valor mínimo de resistor: \",np.min(conjunto[:,0]))\n",
    "print(\"Valor médio de resistor: \",np.mean(conjunto[:,0]))\n",
    "\n",
    "print(\"\")\n",
    "print(\"Valor máximo de indutor: \",np.max(conjunto[:,1]))\n",
    "print(\"Valor mínimo de indutor: \",np.min(conjunto[:,1]))\n",
    "print(\"Valor médio de indutor: \",np.mean(conjunto[:,1]))\n",
    "\n",
    "print(\"\")\n",
    "print(\"Valor máximo de capacitor: \",np.max(conjunto[:,2]))\n",
    "print(\"Valor mínimo de capacitor: \",np.min(conjunto[:,2]))\n",
    "print(\"Valor médio de capacitor: \",np.mean(conjunto[:,2]))\n"
   ]
  },
  {
   "cell_type": "markdown",
   "id": "6f2b2847",
   "metadata": {},
   "source": [
    "## 4º Armazenar os valores de corrente gerados pelo conjunto de valores R,L,C"
   ]
  },
  {
   "cell_type": "code",
   "execution_count": null,
   "id": "a77fdb4c",
   "metadata": {
    "scrolled": true
   },
   "outputs": [],
   "source": [
    "m = conjunto.shape[0]\n",
    "iresult=np.empty((0,5000))\n",
    "for i in range (m):\n",
    "    R=conjunto[i,0]\n",
    "    L=conjunto[i,1]\n",
    "    C=conjunto[i,2]\n",
    "    print(\"Gráfico número:\",i,\"\\n\")\n",
    "    it = simulador(R,L,C,1)\n",
    "    iresult= np.vstack((iresult,it))"
   ]
  },
  {
   "cell_type": "code",
   "execution_count": null,
   "id": "31492564",
   "metadata": {},
   "outputs": [],
   "source": [
    "\n",
    "# Obtém a média dos valores de entrada\n",
    "media_iresult = np.mean(iresult)\n",
    "\n",
    "# Obtém o desvio padrão dos valores de entrada\n",
    "desvio_padrao_iresult = np.std(iresult)\n",
    "\n",
    "# Normaliza os valores de entrada\n",
    "iresult_norm = (iresult - media_iresult) / desvio_padrao_iresult\n"
   ]
  },
  {
   "cell_type": "code",
   "execution_count": null,
   "id": "ada6dbd6",
   "metadata": {
    "scrolled": true
   },
   "outputs": [],
   "source": [
    "import tensorflow as tf  #O tensorrflow é uma biblioteca especializada em machine learning\n",
    "from tensorflow.keras import Sequential\n",
    "from tensorflow.keras.layers import Dense,Dropout\n",
    "\n",
    "\n",
    "#Esse é a arquitetura da nossa rede neural:\n",
    "model_2 = Sequential ([\n",
    "    Dense (units=5000, activation= 'relu'), #Nas camadas ocultas de uma rede neural é utilizado comumente a ativação Relu;\n",
    "    Dense (units=3, activation='relu'), #A última camada é a de saída ela leva a ativação que reflete o problema\n",
    "])\n",
    "#O parâmetro \"units\" da primeira e última camada deve corresponder ao número de entradas e saídas do seu modelo respectivamente\n",
    "\n",
    "\n",
    "#Agora importamos o nosso algoritmo de perdas, ou erros. Como uma cost function\n",
    "from tensorflow.keras.losses import MeanSquaredError \n",
    "\n",
    "model_2.compile (optimizer=tf.keras.optimizers.Adam(learning_rate=0.003),\n",
    "loss=MeanSquaredError(),  #Atribuimos a função de erro desejada ao modelo\n",
    "metrics=['accuracy']) \n",
    "\n",
    "#.fit usa uma função semelhante, porém mais avançada que o gradient descent para treinar o modelo\n",
    "#epochs é o número de iterações\n",
    "model_2.fit(iresult,conjunto,epochs=30)\n",
    "model_2.summary()\n",
    "\n",
    "''''O algoritmo Adam otimiza a taxa de aprendizado do gradient descent.\n",
    "Isto é: se é perceptível que podemos aumentar ou diminuir a taxa de aprendizado ele fará isso automaticamente\n",
    "Adam: Adaptative Moment estimation'''\n",
    "\n"
   ]
  },
  {
   "cell_type": "code",
   "execution_count": null,
   "id": "40120143",
   "metadata": {},
   "outputs": [],
   "source": [
    "test_loss, test_acc = model_2.evaluate(iresult,  conjunto, verbose=2)\n",
    "\n",
    "print('\\nTest accuracy:', test_acc)"
   ]
  },
  {
   "cell_type": "code",
   "execution_count": null,
   "id": "5ec78dba",
   "metadata": {},
   "outputs": [],
   "source": [
    "y_3=model_2.predict(iresult)\n",
    "\n",
    "print(y_3)"
   ]
  },
  {
   "cell_type": "code",
   "execution_count": null,
   "id": "bab41096",
   "metadata": {
    "scrolled": true
   },
   "outputs": [],
   "source": [
    "print(conjunto)"
   ]
  },
  {
   "cell_type": "code",
   "execution_count": null,
   "id": "035ac58b",
   "metadata": {},
   "outputs": [],
   "source": [
    "simulador(5.80851611e+03,  2.14692688e+02,  8.00736904e+00,1)\n",
    "simulador(5.92417385e+03, 3.95611159e+01, 8.71784259e-05,1)"
   ]
  }
 ],
 "metadata": {
  "kernelspec": {
   "display_name": "Python 3 (ipykernel)",
   "language": "python",
   "name": "python3"
  },
  "language_info": {
   "codemirror_mode": {
    "name": "ipython",
    "version": 3
   },
   "file_extension": ".py",
   "mimetype": "text/x-python",
   "name": "python",
   "nbconvert_exporter": "python",
   "pygments_lexer": "ipython3",
   "version": "3.10.2"
  }
 },
 "nbformat": 4,
 "nbformat_minor": 5
}
