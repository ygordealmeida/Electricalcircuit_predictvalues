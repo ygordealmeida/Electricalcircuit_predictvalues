{
 "cells": [
  {
   "cell_type": "markdown",
   "id": "3e3206c4",
   "metadata": {},
   "source": [
    "#### Obs: Esse código vai gerar um arquivo de modelo treinado pelo Tensorflow \n",
    "#### Obs: Para compilar esse código é necessário que as imagens estejam mesma pasta dele"
   ]
  },
  {
   "cell_type": "code",
   "execution_count": null,
   "id": "2fd38bb7",
   "metadata": {},
   "outputs": [],
   "source": [
    "import cv2\n",
    "import random\n",
    "import numpy as np\n",
    "import matplotlib.pyplot as plt\n",
    "from scipy import integrate\n",
    "from scipy import signal\n",
    "from PIL import Image\n"
   ]
  },
  {
   "cell_type": "code",
   "execution_count": null,
   "id": "94734859",
   "metadata": {},
   "outputs": [],
   "source": [
    "import tensorflow as tf\n",
    "\n",
    "# Verifica se a GPU está disponível\n",
    "if tf.config.list_physical_devices('GPU'):\n",
    "    print('GPU está disponível')\n",
    "else:\n",
    "    print('GPU não está disponível')\n",
    "\n",
    "# Verifica qual dispositivo está sendo usado para computação\n",
    "print('Dispositivo de computação:', tf.test.gpu_device_name() if tf.test.is_gpu_available() else \"CPU\")\n"
   ]
  },
  {
   "cell_type": "code",
   "execution_count": null,
   "id": "86a3f17f",
   "metadata": {},
   "outputs": [],
   "source": [
    "nome_arquivo = f'meu_grafico_{1}.jpg'\n",
    "imagem = cv2.imread(nome_arquivo,cv2.IMREAD_GRAYSCALE)   #Carregando a imagem\n",
    "imagem = cv2.resize(imagem, (125, 125),interpolation = cv2.INTER_AREA)\n",
    "#imagem = cv2.resize(imagem, (150, 150))\n",
    "\n",
    "matriz_imagem = np.array(imagem)\n",
    "print(matriz_imagem.shape)\n",
    "plt.imshow(matriz_imagem, cmap=\"gray\")\n",
    "plt.show()\n",
    "canal_alpha = matriz_imagem[:, :]   #Ficamos apenas com um canal de cor\n",
    "plt.imshow(canal_alpha)\n"
   ]
  },
  {
   "cell_type": "markdown",
   "id": "c4de8a7d",
   "metadata": {},
   "source": [
    "### 1º Carregamos as imagens, simplificamos os canais de cores, redimensionamos e normalizamos elas"
   ]
  },
  {
   "cell_type": "code",
   "execution_count": null,
   "id": "4c861dba",
   "metadata": {},
   "outputs": [],
   "source": [
    "imagens_array = []\n",
    "imagens_array_teste = []\n",
    "tam = 125\n",
    "for i in range (5000):\n",
    "    nome_arquivo = f'meu_grafico_{i}.jpg'\n",
    "    imagem = cv2.imread(nome_arquivo,cv2.IMREAD_GRAYSCALE)   #Carregando a imagem\n",
    "    imagem = cv2.resize(imagem, (tam, tam),interpolation = cv2.INTER_AREA) #Redimensionamento da imagem\n",
    "    matriz_imagem = np.array(imagem)  \n",
    "    imagens_array.append(matriz_imagem)\n",
    "\n",
    "for i in range (1000):\n",
    "    nome_arquivo = f'meu_grafico_{i+5000}.jpg'\n",
    "    imagem = cv2.imread(nome_arquivo,cv2.IMREAD_GRAYSCALE)\n",
    "    imagem = cv2.resize(imagem, (tam, tam),interpolation = cv2.INTER_AREA)\n",
    "    matriz_imagem = np.array(imagem)\n",
    "    imagens_array_teste.append(matriz_imagem)\n",
    "        \n"
   ]
  },
  {
   "cell_type": "code",
   "execution_count": null,
   "id": "af10b9db",
   "metadata": {},
   "outputs": [],
   "source": [
    "imagens_array=np.array(imagens_array)\n",
    "print(imagens_array.shape)\n",
    "imagens_array_teste=np.array(imagens_array_teste)\n",
    "print(imagens_array_teste.shape)"
   ]
  },
  {
   "cell_type": "code",
   "execution_count": null,
   "id": "f907c671",
   "metadata": {
    "scrolled": true
   },
   "outputs": [],
   "source": [
    "imagens_array=imagens_array/255  #Normalização dos dados\n",
    "imagens_array_teste=imagens_array_teste/255"
   ]
  },
  {
   "cell_type": "markdown",
   "id": "82ae981c",
   "metadata": {},
   "source": [
    "### 2º Criamos nossa arquitetura de rede neural e realizamos o treinamento"
   ]
  },
  {
   "cell_type": "code",
   "execution_count": null,
   "id": "b75b40d4",
   "metadata": {},
   "outputs": [],
   "source": [
    "import tensorflow as tf \n",
    "from tensorflow.keras import Sequential, regularizers\n",
    "from tensorflow.keras.layers import Dense,Dropout, Conv2D, MaxPooling2D, Flatten\n",
    "\n",
    "\n",
    "#Esse é a arquitetura da nossa rede neural:\n",
    "model_2 = Sequential ([\n",
    "    Conv2D(64, (3,3), activation='relu', input_shape=(tam,tam,1)),\n",
    "    MaxPooling2D(2,2),\n",
    "    Conv2D(64, (3,3),activation='relu'),\n",
    "    MaxPooling2D(2,2),\n",
    "    Conv2D(128,(3,3),activation='relu'),\n",
    "    MaxPooling2D(2,2),\n",
    "    Conv2D(128,(3,3),activation='relu'),\n",
    "    MaxPooling2D(2,2),\n",
    "    Conv2D(256,(3,3),activation='relu'),\n",
    "    MaxPooling2D(2,2),\n",
    "    Flatten(),\n",
    "    Dropout(0.5),\n",
    "    Dense(512,activation='relu'),\n",
    "    Dense (units=3, activation='relu')\n",
    "    \n",
    "])\n",
    "\n",
    "\n",
    "from tensorflow.keras.losses import MeanSquaredError \n",
    "\n",
    "model_2.compile (optimizer=tf.keras.optimizers.Adam(learning_rate=0.00006),\n",
    "loss=MeanSquaredError(), \n",
    "metrics=['accuracy']) \n",
    "\n"
   ]
  },
  {
   "cell_type": "code",
   "execution_count": null,
   "id": "0f57151f",
   "metadata": {},
   "outputs": [],
   "source": [
    "conjunto_treinamento=np.load(\"conjunto_treinamento.npy\")\n",
    "conjunto_teste=np.load(\"conjunto_teste.npy\")\n",
    "conjunto_completo = np.vstack((conjunto_treinamento,conjunto_teste))\n",
    "print(conjunto_treinamento.shape)\n",
    "print(conjunto_teste.shape)\n",
    "print(conjunto_completo.shape)"
   ]
  },
  {
   "cell_type": "code",
   "execution_count": null,
   "id": "e8a27d9a",
   "metadata": {},
   "outputs": [],
   "source": [
    "x = np.max(conjunto_completo, axis=0)\n",
    "print(x)\n",
    "\n",
    "\n",
    "maximos=x\n",
    "conjunto_treinamento_normalizado = conjunto_treinamento / x\n",
    "conjunto_teste_normalizado = conjunto_teste/x\n",
    "\n",
    "print(conjunto_treinamento_normalizado)"
   ]
  },
  {
   "cell_type": "code",
   "execution_count": null,
   "id": "4bc71bbf",
   "metadata": {},
   "outputs": [],
   "source": [
    "#fazer com 7 epocs\n",
    "history=model_2.fit(imagens_array,conjunto_treinamento_normalizado,epochs=30,validation_data=(imagens_array_teste, conjunto_teste_normalizado))"
   ]
  },
  {
   "cell_type": "markdown",
   "id": "7415828e",
   "metadata": {},
   "source": [
    "### 3º Avaliamos o modelo treinado no conjunto de teste"
   ]
  },
  {
   "cell_type": "code",
   "execution_count": null,
   "id": "7818c1e9",
   "metadata": {},
   "outputs": [],
   "source": [
    "import pickle\n",
    "\n",
    "# Salvar o objeto history em um arquivo\n",
    "with open('historico_125', 'wb') as file:\n",
    "    pickle.dump(history.history, file)\n",
    "\n",
    "history_dict = history.history\n",
    "history_dict.keys()\n",
    "acc = history_dict['accuracy']\n",
    "val_acc = history_dict['val_accuracy']\n",
    "loss = history_dict['loss']\n",
    "val_loss = history_dict['val_loss']\n",
    "\n",
    "epochs = range(1, len(acc) + 1)\n",
    "\n",
    "# \"bo\" is for \"blue dot\"\n",
    "plt.plot(epochs, loss, 'r', label='Perda de treinamento')\n",
    "# b is for \"solid blue line\"\n",
    "plt.plot(epochs, val_loss, 'b', label='Perda de validação')\n",
    "plt.title('Perda de treinamento e validação')\n",
    "plt.xlabel('Epócas')\n",
    "plt.ylabel('Perda')\n",
    "plt.legend()\n",
    "\n",
    "plt.show()"
   ]
  },
  {
   "cell_type": "code",
   "execution_count": null,
   "id": "6deb4f61",
   "metadata": {},
   "outputs": [],
   "source": [
    "plt.clf()   # clear figure\n",
    "\n",
    "plt.plot(epochs, acc, 'r', label='Training acc')\n",
    "plt.plot(epochs, val_acc, 'b', label='Validation acc')\n",
    "plt.title('Training and validation accuracy')\n",
    "plt.xlabel('Epochs')\n",
    "plt.ylabel('Accuracy')\n",
    "plt.legend()\n",
    "\n",
    "plt.show()\n",
    "\n",
    "\n",
    "loss, accuracy = model_2.evaluate(imagens_array_teste, conjunto_teste)\n",
    "print(loss)\n",
    "print(accuracy)"
   ]
  },
  {
   "cell_type": "code",
   "execution_count": null,
   "id": "f6e12f2d",
   "metadata": {
    "scrolled": true
   },
   "outputs": [],
   "source": [
    "y_3=model_2.predict(imagens_array_teste)\n",
    "np.set_printoptions(threshold=np.inf)\n",
    "y_real = y_3*maximos\n",
    "print(y_real)\n",
    "\n"
   ]
  },
  {
   "cell_type": "code",
   "execution_count": null,
   "id": "77752fd0",
   "metadata": {
    "scrolled": true
   },
   "outputs": [],
   "source": [
    "print(conjunto_teste)"
   ]
  },
  {
   "cell_type": "code",
   "execution_count": null,
   "id": "ae76046d",
   "metadata": {},
   "outputs": [],
   "source": [
    "#model_2.save('rede_treinada')"
   ]
  },
  {
   "cell_type": "markdown",
   "id": "446f4f3d",
   "metadata": {},
   "source": [
    "## 4º A seguir iremos ver os 30 primeiros gráficos gerados pelo conjunto original em comparação com o conjunto que o modelo previu."
   ]
  },
  {
   "cell_type": "code",
   "execution_count": null,
   "id": "2ad363da",
   "metadata": {},
   "outputs": [],
   "source": [
    "# -*- coding: utf-8 -*-\n",
    "\"\"\"\n",
    "Created on Tue Feb  4 21:21:44 2020\n",
    "\n",
    "@author: Edson Porto da Silva\n",
    "\"\"\"\n",
    "import numpy as np\n",
    "import matplotlib.pyplot as plt\n",
    "from scipy import integrate\n",
    "from scipy import signal\n",
    "from matplotlib.lines import Line2D  # Importe a classe Line2D\n",
    "\n",
    "def simulador(R,L,C,r,l,c,a):\n",
    "\n",
    "    # Resolução numérica de um circuito RLC série alimentado por uma onda quadrada\n",
    "    # de tensão.\n",
    "    # parâmetros do circuito:\n",
    "    V0 = 0                # tensão inicial no capacitor [volts]\n",
    "    I0 = 0                # corrente inicial no indutor [ampères]\n",
    "    fq = 1               # frequência da onda quadrada [hertz]\n",
    "    Vq = 15               # amplitude da onda quadrada [volts]\n",
    "    w0 = 1/np.sqrt(L*C)   # frequência angular de ressonância [rad/segundo]\n",
    "\n",
    "    t = np.arange(0,1,0.0001)*(2/10000)   # discretização do intervalo de tempo [segundos]\n",
    "    Vs = Vq*signal.square(2*np.pi*fq*t) # onda quadrada na entrada do circuito\n",
    "\n",
    "    vC    = np.zeros(len(t))\n",
    "    x     = np.zeros(len(t))\n",
    "\n",
    "    # EDO da tensão sobre o capacitor: vc''(t)+(R/L)vc'(t)+vc(t)/LC = vs/LC\n",
    "\n",
    "    # Solução numérica:\n",
    "    vC[0] = V0       # condição incial de vc\n",
    "    x[0]  = I0/C     # condição inicial da derivada vc'(t)\n",
    "    #\n",
    "    # Integração numérica via método de Euler:\n",
    "    deltaT    = t[1]-t[0] # passo de integração\n",
    "    numPoints = len(t)-1\n",
    "\n",
    "    for kk in range(0, numPoints):\n",
    "        vC[kk+1] = vC[kk]+x[kk]*deltaT                                # calcula vc(t+deltaT)\n",
    "        x[kk+1]  = x[kk]+(-R/L*x[kk]-1/(L*C)*(vC[kk]-Vs[kk]))*deltaT  # calcula vc'(t+deltaT)\n",
    "\n",
    "    # cálculo das tensões e da corrente partir de vc(t):\n",
    "    i  = np.append(I0, C*np.diff(vC)/deltaT)    # corrente no circuito\n",
    "\n",
    "    vR = R*i                                    # tensão no resistor\n",
    "    vL = Vs-vR-vC                               # tensão no indutor(LKT)\n",
    "\n",
    "    ###--------------------------------------------------------------###\n",
    "\n",
    "    vC1    = np.zeros(len(t))\n",
    "    x1     = np.zeros(len(t))\n",
    "\n",
    "    # EDO da tensão sobre o capacitor: vc''(t)+(R/L)vc'(t)+vc(t)/LC = vs/LC\n",
    "\n",
    "    # Solução numérica:\n",
    "    vC1[0] = V0       # condição incial de vc\n",
    "    x1[0]  = I0/c     # condição inicial da derivada vc'(t)\n",
    "    #\n",
    "    # Integração numérica via método de Euler:\n",
    "    deltaT    = t[1]-t[0] # passo de integração\n",
    "    numPoints = len(t)-1\n",
    "\n",
    "    for kk in range(0, numPoints):\n",
    "        vC1[kk+1] = vC1[kk]+x1[kk]*deltaT                                # calcula vc(t+deltaT)\n",
    "        x1[kk+1]  = x1[kk]+(-r/l*x1[kk]-1/(l*c)*(vC1[kk]-Vs[kk]))*deltaT  # calcula vc'(t+deltaT)\n",
    "\n",
    "    # cálculo das tensões e da corrente partir de vc(t):\n",
    "    i1  = np.append(I0, c*np.diff(vC1)/deltaT)    # corrente no circuito\n",
    "\n",
    "    vR1 = r*i1                                    # tensão no resistor\n",
    "    vL1 = Vs-vR1-vC1                               # tensão no indutor(LKT)\n",
    "\n",
    "\n",
    "\n",
    "    if a ==1:\n",
    "        resist1 = f\"{R:.3f}\"\n",
    "        indut1 = f\"{(L*1000):.3f}\"\n",
    "        cap1 = f\"{(C*10e9):.3f}\"\n",
    "\n",
    "        resist2 = f\"{r:.3f}\"\n",
    "        indut2 = f\"{(l*1000):.3f}\"\n",
    "        cap2 = f\"{(c*10e9):.3f}\"\n",
    "\n",
    "\n",
    "        plt.figure(1, figsize=(14, 8), dpi=100, facecolor='w', edgecolor='k')\n",
    "        plt.subplot(1, 2, 1)\n",
    "        plt.plot(t, i,color=\"black\" )\n",
    "        #plt.legend(['corrente i(t)']);\n",
    "        plt.grid(color='k', linestyle='--', linewidth=0.1)\n",
    "        plt.ylabel('Corrente Elétrica (A)', fontsize = 12)\n",
    "        plt.xlabel('Tempo (s)', fontsize = 12)\n",
    "        plt.title('Gráfico com os parâmetros reais', fontsize = 12)\n",
    "        custom_legend = {\n",
    "    'Resistência(Ω): '+resist1: Line2D([0], [0], marker='o', color='none', markerfacecolor='blue', markersize=5),\n",
    "    'Indutância(mH): '+indut1: Line2D([0], [0], marker='o', color='none', markerfacecolor='gray', markersize=5),\n",
    "    'Capacitância(µF): '+cap1: Line2D([0], [0], marker='o', color='none', markerfacecolor='brown', markersize=5),\n",
    "}\n",
    "        plt.legend(custom_legend.values(), custom_legend.keys(), loc='upper right')\n",
    "\n",
    "\n",
    "\n",
    "\n",
    "\n",
    "        plt.subplot(1, 2, 2)\n",
    "        plt.plot(t, i1,color=\"black\")\n",
    "        plt.grid(color='k', linestyle='--', linewidth=0.1)\n",
    "        plt.ylabel('Corrente Elétrica (A)', fontsize = 12)\n",
    "        plt.xlabel('Tempo (s)', fontsize = 12)\n",
    "        plt.title('Gráfico com os parâmetros da rede', fontsize = 12)\n",
    "        custom_legend = {\n",
    "    'Resistência(Ω): '+resist2: Line2D([0], [0], marker='o', color='none', markerfacecolor='blue', markersize=5),\n",
    "    'Indutância(mH): '+indut2: Line2D([0], [0], marker='o', color='none', markerfacecolor='gray', markersize=5),\n",
    "    'Capacitância(µF): '+cap2: Line2D([0], [0], marker='o', color='none', markerfacecolor='brown', markersize=5),\n",
    "}\n",
    "        plt.legend(custom_legend.values(), custom_legend.keys(), loc='upper right')\n",
    "\n",
    "        plt.tight_layout()\n",
    "\n",
    "        plt.show(block=False)\n",
    "\n"
   ]
  },
  {
   "cell_type": "code",
   "execution_count": null,
   "id": "b2299321",
   "metadata": {
    "scrolled": true
   },
   "outputs": [],
   "source": [
    "for i in range (30):\n",
    "    print(\"Figura:\",i)\n",
    "    simulador(conjunto_teste[i,0],conjunto_teste[i,1],conjunto_teste[i,2],y_real[i,0],y_real[i,1],y_real[i,2],1)"
   ]
  }
 ],
 "metadata": {
  "kernelspec": {
   "display_name": "Python 3 (ipykernel)",
   "language": "python",
   "name": "python3"
  },
  "language_info": {
   "codemirror_mode": {
    "name": "ipython",
    "version": 3
   },
   "file_extension": ".py",
   "mimetype": "text/x-python",
   "name": "python",
   "nbconvert_exporter": "python",
   "pygments_lexer": "ipython3",
   "version": "3.10.0"
  }
 },
 "nbformat": 4,
 "nbformat_minor": 5
}
