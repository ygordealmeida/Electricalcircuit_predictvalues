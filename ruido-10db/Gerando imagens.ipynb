{
 "cells": [
  {
   "cell_type": "code",
   "execution_count": null,
   "id": "nvUqlYDSCkAW",
   "metadata": {
    "colab": {
     "base_uri": "https://localhost:8080/"
    },
    "executionInfo": {
     "elapsed": 53577,
     "status": "ok",
     "timestamp": 1712703358572,
     "user": {
      "displayName": "YGOR DE ALMEIDA PEREIRA",
      "userId": "04815274181768620493"
     },
     "user_tz": 180
    },
    "id": "nvUqlYDSCkAW",
    "outputId": "49434579-894e-47a1-bcc3-957389784b6d"
   },
   "outputs": [],
   "source": [
    "#from google.colab import drive\n",
    "#drive.mount('/content/drive')"
   ]
  },
  {
   "cell_type": "code",
   "execution_count": null,
   "id": "2a6475dc",
   "metadata": {},
   "outputs": [],
   "source": [
    "# função para calcular a potência de um sinal\n",
    "def potSinal(x):\n",
    "    return (x**2).mean()"
   ]
  },
  {
   "cell_type": "code",
   "execution_count": null,
   "id": "9dd3ff12",
   "metadata": {},
   "outputs": [],
   "source": [
    "#Função para calcular a variância do ruído\n",
    "def varRuido(Sinal,SNR):\n",
    "    Ps = (Sinal**2).mean()\n",
    "    return(Ps/(10**(SNR/10)))"
   ]
  },
  {
   "cell_type": "code",
   "execution_count": null,
   "id": "04029352",
   "metadata": {},
   "outputs": [],
   "source": [
    "def criaRuido(σ2,nmr_amostras):\n",
    "    # ruído gaussiano branco\n",
    "    Namostras = nmr_amostras\n",
    "    μ   = 0    # média\n",
    "    σ        = σ2**(1/2) \n",
    "    return(np.random.normal(μ,σ, Namostras) ) \n"
   ]
  },
  {
   "cell_type": "markdown",
   "id": "6157341f",
   "metadata": {},
   "source": [
    "O objetivo é adicionarmos ao sinal um ruído tal que a relação sinal-ruído seja um valor fixo e escolhido por nós. Para tal manipulamos as seguintes expressões para descobrirmos o valor da potência do sinal ruidoso.\n",
    "\n",
    "$\\mathrm{SNR}_{dB} = 10log_{10}P_s-10log_{10}P_n$    (1)\n",
    "\n",
    "$10^{\\frac{\\mathrm{SNR}_{dB}}{10}} = 10^{log_{10}(\\frac{P_s}{P_n})}$ (2)\n",
    "\n",
    "$10^{\\frac{\\mathrm{SNR}_{dB}}{10}} =\\frac{P_s}{P_n}$  (3)\n",
    "\n",
    "$P_n = \\frac{P_s}{10^{\\frac{\\mathrm{SNR}_{dB}}{10}}}$ (4)\n",
    "\n",
    "Conhecendo $P_s$ e $SNR_{dB}$ podemos determinar $P_n$ e a partir disso determinar a variância $σ^{2}$. Pois, sabe-se que a potência do ruído branco é numericamente igual a sua variância.  \n"
   ]
  },
  {
   "cell_type": "markdown",
   "id": "2c4f1b6f",
   "metadata": {
    "id": "2c4f1b6f"
   },
   "source": [
    "### Obs: Esse código vai gerar arquivos de imagens na pasta em que está salvo.\n",
    "\n",
    "\n",
    "## 1º Definir função para simular o circuito e retornar os gráficos"
   ]
  },
  {
   "cell_type": "code",
   "execution_count": null,
   "id": "ac961d00",
   "metadata": {
    "executionInfo": {
     "elapsed": 1372,
     "status": "ok",
     "timestamp": 1712703359937,
     "user": {
      "displayName": "YGOR DE ALMEIDA PEREIRA",
      "userId": "04815274181768620493"
     },
     "user_tz": 180
    },
    "id": "ac961d00"
   },
   "outputs": [],
   "source": [
    "# -*- coding: utf-8 -*-\n",
    "\"\"\"\n",
    "Created on Tue Feb  4 21:21:44 2020\n",
    "\n",
    "@author: Edson Porto da Silva\n",
    "\"\"\"\n",
    "import random\n",
    "import numpy as np\n",
    "import matplotlib.pyplot as plt\n",
    "from scipy import integrate\n",
    "from scipy import signal\n",
    "import math\n",
    "def simulador(R,L,C,a,grafico):\n",
    "\n",
    "    # Resolução numérica de um circuito RLC série alimentado por uma onda quadrada\n",
    "    # de tensão.\n",
    "    nome_arquivo = f'meu_grafico_{grafico}.jpg'\n",
    "    # parâmetros do circuito:\n",
    "    V0 = 0                # tensão inicial no capacitor [volts]\n",
    "    I0 = 0                # corrente inicial no indutor [ampères]\n",
    "    fq = 10000               # frequência da onda quadrada [hertz]\n",
    "    Vq = 5               # amplitude da onda quadrada [volts]\n",
    "    w0 = 1/np.sqrt(L*C)   # frequência angular de ressonância [rad/segundo]\n",
    "    mp = 1.95e-5 #Maior período possível\n",
    "    t = np.arange(0,1,0.0001)*(4*mp)   # discretização do intervalo de tempo [segundos]\n",
    "    Vs = Vq*signal.square(2*np.pi*fq*t) # onda quadrada na entrada do circuito\n",
    "\n",
    "    vC    = np.zeros(len(t))\n",
    "    x     = np.zeros(len(t))\n",
    "\n",
    "    # EDO da tensão sobre o capacitor: vc''(t)+(R/L)vc'(t)+vc(t)/LC = vs/LC\n",
    "\n",
    "    # Solução numérica:\n",
    "    vC[0] = V0       # condição incial de vc\n",
    "    x[0]  = I0/C     # condição inicial da derivada vc'(t)\n",
    "    #\n",
    "    # Integração numérica via método de Euler:\n",
    "    deltaT    = t[1]-t[0] # passo de integração\n",
    "    numPoints = len(t)-1\n",
    "\n",
    "    for kk in range(0, numPoints):\n",
    "        vC[kk+1] = vC[kk]+x[kk]*deltaT                                # calcula vc(t+deltaT)\n",
    "        x[kk+1]  = x[kk]+(-R/L*x[kk]-1/(L*C)*(vC[kk]-Vs[kk]))*deltaT  # calcula vc'(t+deltaT)\n",
    "\n",
    "    # cálculo das tensões e da corrente partir de vc(t):\n",
    "    i  = np.append(I0, C*np.diff(vC)/deltaT)    # corrente no circuito\n",
    "    # Adição do ruído\n",
    "    SNR = 10 #em dB\n",
    "    σ2 = varRuido(i,SNR)\n",
    "    nmr_amostras = i.shape[0]\n",
    "    ruido = criaRuido(σ2,nmr_amostras)\n",
    "\n",
    "\n",
    "    i=i+ruido\n",
    "    if a ==1:\n",
    "\n",
    "        plt.figure(1, figsize=(10, 7), dpi=100, facecolor='w', edgecolor='k')\n",
    "        plt.plot(t, i,color=\"black\")\n",
    "        plt.grid(color='k', linestyle='--', linewidth=0.1)\n",
    "        plt.grid(False)\n",
    "        y_ticks = np.arange(-0.01, 0.05, 0.01)  # Divisões no eixo y\n",
    "        plt.xlim(-1e-6,4*mp)\n",
    "        plt.xticks([])\n",
    "        plt.yticks(y_ticks)\n",
    "        plt.gca().set_yticklabels(['' for _ in y_ticks])  # Rótulos vazios\n",
    "        plt.savefig(nome_arquivo, format='jpg', bbox_inches='tight')\n",
    "        plt.close() # Não printar a imagem na tela\n",
    "\n",
    "        plt.show(block=False)\n",
    "\n"
   ]
  },
  {
   "cell_type": "markdown",
   "id": "5d6247c8",
   "metadata": {
    "id": "5d6247c8"
   },
   "source": [
    "## 2º Gerar os valores de R,L e C"
   ]
  },
  {
   "cell_type": "code",
   "execution_count": null,
   "id": "2b12d7ca",
   "metadata": {
    "colab": {
     "base_uri": "https://localhost:8080/"
    },
    "executionInfo": {
     "elapsed": 301281,
     "status": "ok",
     "timestamp": 1712703661214,
     "user": {
      "displayName": "YGOR DE ALMEIDA PEREIRA",
      "userId": "04815274181768620493"
     },
     "user_tz": 180
    },
    "id": "2b12d7ca",
    "outputId": "27bdc41b-e4cf-46eb-b04c-3c218b2c1074",
    "scrolled": true
   },
   "outputs": [],
   "source": [
    "\n",
    "#CORRIGIR OS IFS\n",
    "conjunto = np.empty((0,3)) #Matriz que armazena os valores de R,L e C\n",
    "tam = 0 #Quantidade de valores armazenados (linhas da matriz)\n",
    "w_arm = np.empty((0,))\n",
    "while tam < 2000:    #Superamortecido\n",
    "\n",
    "    l = random.uniform(0.00005, 0.00195)\n",
    "    c = random.uniform(5e-9, 0.195e-6)\n",
    "    r = random.uniform(100, 300)\n",
    "    w = 1/(l*c)**(1/2)\n",
    "    alpha = r/(2*l)\n",
    "    param= abs(w-alpha)\n",
    "    if alpha>w:\n",
    "        w_arm = np.hstack((w_arm,w))\n",
    "        conj =r,l,c\n",
    "        conjunto =np.vstack((conjunto,conj))\n",
    "        tam+=1\n",
    "\n",
    "while tam < 4000:     #Subamortecido\n",
    "\n",
    "    l = random.uniform(0.00005, 0.00195)\n",
    "    c = random.uniform(5e-9, 0.195e-6)\n",
    "    r = random.uniform(100, 300)\n",
    "    w = 1/(l*c)**(1/2)\n",
    "    alpha = r/(2*l)\n",
    "    param= abs(w-alpha)\n",
    "    if alpha<w:\n",
    "        w_arm = np.hstack((w_arm,w))\n",
    "        conj =r,l,c\n",
    "        conjunto =np.vstack((conjunto,conj))\n",
    "        tam+=1\n",
    "while tam < 6000:     #Criticamente amortecido\n",
    "\n",
    "    l = random.uniform(0.00005, 0.00195)\n",
    "    c = random.uniform(5e-9, 0.195e-6)\n",
    "    r = random.uniform(100, 300)\n",
    "    w = 1/(l*c)**(1/2)\n",
    "    alpha = r/(2*l)\n",
    "    param= abs(w-alpha)\n",
    "    if param<0.1:\n",
    "        w_arm = np.hstack((w_arm,w))\n",
    "        conj =r,l,c\n",
    "        conjunto =np.vstack((conjunto,conj))\n",
    "        tam+=1\n",
    "        print(tam)\n"
   ]
  },
  {
   "cell_type": "code",
   "execution_count": null,
   "id": "9f2f5eee",
   "metadata": {},
   "outputs": [],
   "source": [
    "conjunto_treinamento=np.load(\"conjunto_treinamento.npy\")\n",
    "conjunto_teste=np.load(\"conjunto_teste.npy\")\n",
    "conjunto = np.vstack((conjunto_treinamento,conjunto_teste))"
   ]
  },
  {
   "cell_type": "markdown",
   "id": "1a73b2d7",
   "metadata": {
    "id": "1a73b2d7"
   },
   "source": [
    "### 3º Avaliar os dados"
   ]
  },
  {
   "cell_type": "code",
   "execution_count": null,
   "id": "e0a6812f",
   "metadata": {
    "colab": {
     "base_uri": "https://localhost:8080/"
    },
    "executionInfo": {
     "elapsed": 28,
     "status": "ok",
     "timestamp": 1712703661215,
     "user": {
      "displayName": "YGOR DE ALMEIDA PEREIRA",
      "userId": "04815274181768620493"
     },
     "user_tz": 180
    },
    "id": "e0a6812f",
    "outputId": "cc4b1e47-74d3-47f0-a32c-5649c2cdd19d"
   },
   "outputs": [],
   "source": [
    "#print(\"Valor máximo de w: \",np.max(w_arm))\n",
    "#print(\"Valor mínimo de w: \",np.min(w_arm))\n",
    "#print(\"Valor médio de w: \",np.mean(w_arm))\n",
    "\n",
    "print(\"\")\n",
    "print(\"Valor máximo de resistor: \",np.max(conjunto[:,0]))\n",
    "print(\"Valor mínimo de resistor: \",np.min(conjunto[:,0]))\n",
    "print(\"Valor médio de resistor: \",np.mean(conjunto[:,0]))\n",
    "\n",
    "print(\"\")\n",
    "print(\"Valor máximo de indutor: \",np.max(conjunto[:,1]))\n",
    "print(\"Valor mínimo de indutor: \",np.min(conjunto[:,1]))\n",
    "print(\"Valor médio de indutor: \",np.mean(conjunto[:,1]))\n",
    "\n",
    "print(\"\")\n",
    "print(\"Valor máximo de capacitor: \",np.max(conjunto[:,2]))\n",
    "print(\"Valor mínimo de capacitor: \",np.min(conjunto[:,2]))\n",
    "print(\"Valor médio de capacitor: \",np.mean(conjunto[:,2]))\n",
    "#print(w_arm.shape)\n"
   ]
  },
  {
   "cell_type": "markdown",
   "id": "2455644d",
   "metadata": {
    "id": "2455644d"
   },
   "source": [
    "## SEPARAR O CONJUNTO DE TREINAMENTO E DE TESTE"
   ]
  },
  {
   "cell_type": "code",
   "execution_count": null,
   "id": "ee671858",
   "metadata": {
    "colab": {
     "base_uri": "https://localhost:8080/"
    },
    "executionInfo": {
     "elapsed": 12,
     "status": "ok",
     "timestamp": 1712703661215,
     "user": {
      "displayName": "YGOR DE ALMEIDA PEREIRA",
      "userId": "04815274181768620493"
     },
     "user_tz": 180
    },
    "id": "ee671858",
    "outputId": "a2e5e6d5-8ce0-40ea-8b7b-43c545b4a950"
   },
   "outputs": [],
   "source": [
    "np.random.shuffle(conjunto)\n",
    "conjunto_treinamento = conjunto[0:5000,:]\n",
    "conjunto_teste = conjunto[5000:,:]\n",
    "\n",
    "print(conjunto_treinamento.shape)\n",
    "print(conjunto_teste.shape)"
   ]
  },
  {
   "cell_type": "markdown",
   "id": "b46f17ec",
   "metadata": {
    "id": "b46f17ec"
   },
   "source": [
    "## Vizualizar os gráficos e salvar os conjuntos de teste e treinamento"
   ]
  },
  {
   "cell_type": "code",
   "execution_count": null,
   "id": "2173421f",
   "metadata": {
    "colab": {
     "base_uri": "https://localhost:8080/",
     "height": 1000
    },
    "executionInfo": {
     "elapsed": 3596159,
     "status": "ok",
     "timestamp": 1712711828687,
     "user": {
      "displayName": "YGOR DE ALMEIDA PEREIRA",
      "userId": "04815274181768620493"
     },
     "user_tz": 180
    },
    "id": "2173421f",
    "outputId": "e76938a8-9faa-4185-adf0-8c0079ebe3ab",
    "scrolled": true
   },
   "outputs": [],
   "source": [
    "m = conjunto.shape[0]\n",
    "\n",
    "for i in range (m):\n",
    "    R=conjunto[i,0]\n",
    "    L=conjunto[i,1]\n",
    "    C=conjunto[i,2]\n",
    "    #print(\"Gráfico número:\",i,\"\\n\")\n",
    "    simulador(R,L,C,1,i)\n"
   ]
  },
  {
   "cell_type": "code",
   "execution_count": null,
   "id": "df2ad18d",
   "metadata": {
    "executionInfo": {
     "elapsed": 4,
     "status": "aborted",
     "timestamp": 1712708226938,
     "user": {
      "displayName": "YGOR DE ALMEIDA PEREIRA",
      "userId": "04815274181768620493"
     },
     "user_tz": 180
    },
    "id": "df2ad18d"
   },
   "outputs": [],
   "source": [
    "np.save(\"conjunto_treinamento.npy\",conjunto_treinamento)\n",
    "np.save(\"conjunto_teste.npy\",conjunto_teste)\n"
   ]
  },
  {
   "cell_type": "code",
   "execution_count": null,
   "id": "6299541d",
   "metadata": {},
   "outputs": [],
   "source": []
  }
 ],
 "metadata": {
  "colab": {
   "provenance": []
  },
  "kernelspec": {
   "display_name": "Python 3 (ipykernel)",
   "language": "python",
   "name": "python3"
  },
  "language_info": {
   "codemirror_mode": {
    "name": "ipython",
    "version": 3
   },
   "file_extension": ".py",
   "mimetype": "text/x-python",
   "name": "python",
   "nbconvert_exporter": "python",
   "pygments_lexer": "ipython3",
   "version": "3.10.2"
  }
 },
 "nbformat": 4,
 "nbformat_minor": 5
}
