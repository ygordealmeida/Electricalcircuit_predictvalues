{
 "cells": [
  {
   "cell_type": "markdown",
   "id": "2c4f1b6f",
   "metadata": {},
   "source": [
    "### Obs: Esse código vai gerar arquivos de imagens na pasta em que está salvo.\n",
    "\n",
    "## 1º Definir função para simular o circuito e retornar os gráficos"
   ]
  },
  {
   "cell_type": "code",
   "execution_count": null,
   "id": "ac961d00",
   "metadata": {},
   "outputs": [],
   "source": [
    "# -*- coding: utf-8 -*-\n",
    "\"\"\"\n",
    "Created on Tue Feb  4 21:21:44 2020\n",
    "\n",
    "@author: Edson Porto da Silva\n",
    "\"\"\"\n",
    "import random\n",
    "import numpy as np\n",
    "import matplotlib.pyplot as plt\n",
    "from scipy import integrate\n",
    "from scipy import signal\n",
    "\n",
    "def simulador(R,L,C,a,grafico):\n",
    "    \n",
    "    # Resolução numérica de um circuito RLC série alimentado por uma onda quadrada\n",
    "    # de tensão.\n",
    "    nome_arquivo = f'meu_grafico_{grafico}.jpg'\n",
    "    # parâmetros do circuito:\n",
    "    V0 = 0                # tensão inicial no capacitor [volts]\n",
    "    I0 = 0                # corrente inicial no indutor [ampères]\n",
    "    fq = 1               # frequência da onda quadrada [hertz]\n",
    "    Vq = 15               # amplitude da onda quadrada [volts]\n",
    "    w0 = 1/np.sqrt(L*C)   # frequência angular de ressonância [rad/segundo]\n",
    "\n",
    "    t = np.arange(0,10,0.0001)*(2/10)   # discretização do intervalo de tempo [segundos]\n",
    "    Vs = Vq*signal.square(2*np.pi*fq*t) # onda quadrada na entrada do circuito\n",
    "\n",
    "    vC    = np.zeros(len(t))\n",
    "    x     = np.zeros(len(t))\n",
    "\n",
    "    # EDO da tensão sobre o capacitor: vc''(t)+(R/L)vc'(t)+vc(t)/LC = vs/LC\n",
    "\n",
    "    # Solução numérica:\n",
    "    vC[0] = V0       # condição incial de vc\n",
    "    x[0]  = I0/C     # condição inicial da derivada vc'(t)\n",
    "    #\n",
    "    # Integração numérica via método de Euler:\n",
    "    deltaT    = t[1]-t[0] # passo de integração\n",
    "    numPoints = len(t)-1\n",
    "\n",
    "    for kk in range(0, numPoints):\n",
    "        vC[kk+1] = vC[kk]+x[kk]*deltaT                                # calcula vc(t+deltaT)\n",
    "        x[kk+1]  = x[kk]+(-R/L*x[kk]-1/(L*C)*(vC[kk]-Vs[kk]))*deltaT  # calcula vc'(t+deltaT)\n",
    "\n",
    "    # cálculo das tensões e da corrente partir de vc(t):\n",
    "    i  = np.append(I0, C*np.diff(vC)/deltaT)    # corrente no circuito\n",
    "    \n",
    "    vR = R*i                                    # tensão no resistor\n",
    "    vL = Vs-vR-vC                               # tensão no indutor(LKT)\n",
    "    if a ==1:\n",
    "        \n",
    "        plt.figure(1, figsize=(10, 7), dpi=100, facecolor='w', edgecolor='k')\n",
    "        plt.plot(t, i,color=\"black\")\n",
    "        #plt.legend(['corrente i(t)']);\n",
    "        plt.grid(color='k', linestyle='--', linewidth=0.1)\n",
    "        #plt.ylabel('ampères (A)', fontsize = 14)\n",
    "        #plt.xlabel('tempo (s)', fontsize = 14)\n",
    "        #plt.title('Corrente no circuito RLC série', fontsize = 14)\n",
    "        plt.savefig(nome_arquivo, format='jpg')\n",
    "        plt.show(block=False)\n",
    "            \n"
   ]
  },
  {
   "cell_type": "markdown",
   "id": "5d6247c8",
   "metadata": {},
   "source": [
    "## 2º Gerar os valores de R,L e C"
   ]
  },
  {
   "cell_type": "code",
   "execution_count": null,
   "id": "2b12d7ca",
   "metadata": {
    "scrolled": true
   },
   "outputs": [],
   "source": [
    "\n",
    "#CORRIGIR OS IFS\n",
    "conjunto = np.empty((0,3)) #Matriz que armazena os valores de R,L e C\n",
    "tam = 0 #Quantidade de valores armazenados (linhas da matriz)\n",
    "w_arm = np.empty((0,))\n",
    "while tam < 2000:    #Superamortecido\n",
    "\n",
    "    l = random.uniform(0.01, 0.1)\n",
    "    c = random.uniform(0.01, 0.1)\n",
    "    r = random.uniform(1, 20)\n",
    "    w = 1/(l*c)**(1/2)\n",
    "    alpha = r/(2*l)\n",
    "    param= abs(w-alpha)\n",
    "    if alpha>w and w>10 and w<100 :\n",
    "        w_arm = np.hstack((w_arm,w))\n",
    "        conj =r,l,c\n",
    "        conjunto =np.vstack((conjunto,conj))\n",
    "        tam+=1\n",
    "      \n",
    "while tam < 4000:     #Subamortecido\n",
    "\n",
    "    l = random.uniform(0.01, 0.1)\n",
    "    c = random.uniform(0.01, 0.1)\n",
    "    r = random.uniform(1, 20)\n",
    "    w = 1/(l*c)**(1/2)\n",
    "    alpha = r/(2*l)\n",
    "    param= abs(w-alpha)\n",
    "    if alpha<w and w>10 and w<100 :\n",
    "        w_arm = np.hstack((w_arm,w))\n",
    "        conj =r,l,c\n",
    "        conjunto =np.vstack((conjunto,conj))\n",
    "        tam+=1\n",
    "while tam < 6000:     #Criticamente amortecido\n",
    "    \n",
    "    l = random.uniform(0.01, 0.1)\n",
    "    c = random.uniform(0.01, 0.1)\n",
    "    r = random.uniform(1, 20)\n",
    "    w = 1/(l*c)**(1/2)\n",
    "    alpha = r/(2*l)\n",
    "    param= abs(w-alpha)\n",
    "    if param<0.001 and w>10 and w<100 :\n",
    "        w_arm = np.hstack((w_arm,w))\n",
    "        conj =r,l,c\n",
    "        conjunto =np.vstack((conjunto,conj))\n",
    "        tam+=1\n",
    "        print(tam)\n"
   ]
  },
  {
   "cell_type": "markdown",
   "id": "1a73b2d7",
   "metadata": {},
   "source": [
    "### 3º Avaliar os dados "
   ]
  },
  {
   "cell_type": "code",
   "execution_count": null,
   "id": "e0a6812f",
   "metadata": {},
   "outputs": [],
   "source": [
    "print(\"Valor máximo de w: \",np.max(w_arm))\n",
    "print(\"Valor mínimo de w: \",np.min(w_arm))\n",
    "print(\"Valor médio de w: \",np.mean(w_arm))\n",
    "\n",
    "print(\"\")\n",
    "print(\"Valor máximo de resistor: \",np.max(conjunto[:,0]))\n",
    "print(\"Valor mínimo de resistor: \",np.min(conjunto[:,0]))\n",
    "print(\"Valor médio de resistor: \",np.mean(conjunto[:,0]))\n",
    "\n",
    "print(\"\")\n",
    "print(\"Valor máximo de indutor: \",np.max(conjunto[:,1]))\n",
    "print(\"Valor mínimo de indutor: \",np.min(conjunto[:,1]))\n",
    "print(\"Valor médio de indutor: \",np.mean(conjunto[:,1]))\n",
    "\n",
    "print(\"\")\n",
    "print(\"Valor máximo de capacitor: \",np.max(conjunto[:,2]))\n",
    "print(\"Valor mínimo de capacitor: \",np.min(conjunto[:,2]))\n",
    "print(\"Valor médio de capacitor: \",np.mean(conjunto[:,2]))\n",
    "print(w_arm.shape)\n"
   ]
  },
  {
   "cell_type": "markdown",
   "id": "2455644d",
   "metadata": {},
   "source": [
    "## SEPARAR O CONJUNTO DE TREINAMENTO E DE TESTE"
   ]
  },
  {
   "cell_type": "code",
   "execution_count": null,
   "id": "ee671858",
   "metadata": {},
   "outputs": [],
   "source": [
    "np.random.shuffle(conjunto)\n",
    "conjunto_treinamento = conjunto[0:5000,:]\n",
    "conjunto_teste = conjunto[5000:,:]\n",
    "\n",
    "print(conjunto_treinamento.shape)\n",
    "print(conjunto_teste.shape)"
   ]
  },
  {
   "cell_type": "markdown",
   "id": "b46f17ec",
   "metadata": {},
   "source": [
    "## Vizualizar os gráficos e salvar os conjuntos de teste e treinamento"
   ]
  },
  {
   "cell_type": "code",
   "execution_count": null,
   "id": "2173421f",
   "metadata": {
    "scrolled": true
   },
   "outputs": [],
   "source": [
    "m = conjunto.shape[0]\n",
    "    \n",
    "for i in range (m):\n",
    "    R=conjunto[i,0]\n",
    "    L=conjunto[i,1]\n",
    "    C=conjunto[i,2]\n",
    "    print(\"Gráfico número:\",i,\"\\n\")\n",
    "    simulador(R,L,C,1,i)\n"
   ]
  },
  {
   "cell_type": "code",
   "execution_count": null,
   "id": "df2ad18d",
   "metadata": {},
   "outputs": [],
   "source": [
    "np.save(\"conjunto_treinamento.npy\",conjunto_treinamento)\n",
    "np.save(\"conjunto_teste.npy\",conjunto_teste)\n"
   ]
  }
 ],
 "metadata": {
  "kernelspec": {
   "display_name": "Python 3 (ipykernel)",
   "language": "python",
   "name": "python3"
  },
  "language_info": {
   "codemirror_mode": {
    "name": "ipython",
    "version": 3
   },
   "file_extension": ".py",
   "mimetype": "text/x-python",
   "name": "python",
   "nbconvert_exporter": "python",
   "pygments_lexer": "ipython3",
   "version": "3.10.2"
  }
 },
 "nbformat": 4,
 "nbformat_minor": 5
}
